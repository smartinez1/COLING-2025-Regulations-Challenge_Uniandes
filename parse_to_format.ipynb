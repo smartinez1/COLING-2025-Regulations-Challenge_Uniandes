{
 "cells": [
  {
   "cell_type": "code",
   "execution_count": 26,
   "metadata": {},
   "outputs": [],
   "source": [
    "import random\n",
    "import time\n",
    "import openai\n",
    "from openai import AzureOpenAI\n",
    "from langchain.prompts import PromptTemplate\n",
    "from pprint import pprint\n",
    "import json\n",
    "\n",
    "# Placeholder values for API key and endpoint\n",
    "API_KEY_MINI = \"\"  \n",
    "API_BASE_GPMINI = \"https://invuniandesai.openai.azure.com/\"  # Replace with your Azure OpenAI service endpoint"
   ]
  },
  {
   "cell_type": "code",
   "execution_count": 34,
   "metadata": {},
   "outputs": [],
   "source": [
    "# Function to generate questions and answers from a raw text input\n",
    "def generar_preguntas_y_respuestas(text):\n",
    "    # Define a prompt template for generating questions and answers\n",
    "    prompt_template = PromptTemplate(\n",
    "        input_variables=[\"text\"],\n",
    "        template=\"\"\"\n",
    "        Below, you have the following text: \"{text}\". Based on this text, generate a list of questions and answers.\n",
    "\n",
    "        1. Write 1 question that covers the main aspects of the text.\n",
    "        2. Provide a detailed answer based on the information from the text.\n",
    "\n",
    "        Follow the format:\n",
    "        Question: [Question]\n",
    "        Answer: [Answer]\n",
    "        \"\"\"\n",
    "    )\n",
    "\n",
    "    # Format the input text into the template\n",
    "    prompt = prompt_template.format(text=text)\n",
    "\n",
    "    while True:\n",
    "        try:\n",
    "            resultado_completo = send_prompt(prompt)\n",
    "            return resultado_completo\n",
    "        except openai.error.RateLimitError:\n",
    "            print(\"Rate limit exceeded. Waiting before retrying...\")\n",
    "            time.sleep(60)\n",
    "        except Exception as e:\n",
    "            print(f\"An error occurred: {e}\")\n",
    "            break\n",
    "\n",
    "def send_prompt(prompt):\n",
    "    deployment_name2 = \"gpt4omini-rfmanrique\"\n",
    "    client = AzureOpenAI(\n",
    "        api_key=API_KEY_MINI,\n",
    "        api_version=\"2024-02-01\",\n",
    "        azure_endpoint=API_BASE_GPMINI\n",
    "    )\n",
    "\n",
    "    chat_completion_zero = client.chat.completions.create(\n",
    "        model=deployment_name2,\n",
    "        messages=[\n",
    "            {\n",
    "                \"role\": \"user\",\n",
    "                \"content\": prompt,\n",
    "            }\n",
    "        ],\n",
    "        temperature=0.1\n",
    "    )\n",
    "    return chat_completion_zero # Extract the response\n"
   ]
  },
  {
   "cell_type": "code",
   "execution_count": 35,
   "metadata": {},
   "outputs": [
    {
     "name": "stdout",
     "output_type": "stream",
     "text": [
      "ChatCompletion(id='chatcmpl-AHCTcloNSBcpNj3lYTkyEY60s9GAx', choices=[Choice(finish_reason='stop', index=0, logprobs=None, message=ChatCompletionMessage(content=\"**Question:** What is the primary role of the Federal Reserve, and what resources and information can be accessed through its website?\\n\\n**Answer:** The primary role of the Federal Reserve, as the central bank of the United States, is to provide the nation with a safe, flexible, and stable monetary and financial system. The Federal Reserve's website offers a variety of resources and information, including details about its structure, board members, advisory councils, and the Federal Reserve Banks. Users can access publications, press releases, and videos, as well as information on monetary policy, supervision and regulation, and economic education. Additionally, the site provides a calendar of events, FAQs, and options for contacting the Federal Reserve, ensuring that the public can stay informed and engaged with its activities.\", refusal=None, role='assistant', function_call=None, tool_calls=None), content_filter_results={'hate': {'filtered': False, 'severity': 'safe'}, 'protected_material_code': {'filtered': False, 'detected': False}, 'protected_material_text': {'filtered': False, 'detected': False}, 'self_harm': {'filtered': False, 'severity': 'safe'}, 'sexual': {'filtered': False, 'severity': 'safe'}, 'violence': {'filtered': False, 'severity': 'safe'}})], created=1728662900, model='gpt-4o-mini', object='chat.completion', service_tier=None, system_fingerprint='fp_878413d04d', usage=CompletionUsage(completion_tokens=154, prompt_tokens=373, total_tokens=527, completion_tokens_details=None, prompt_tokens_details=None), prompt_filter_results=[{'prompt_index': 0, 'content_filter_results': {'hate': {'filtered': False, 'severity': 'safe'}, 'jailbreak': {'filtered': False, 'detected': False}, 'self_harm': {'filtered': False, 'severity': 'safe'}, 'sexual': {'filtered': False, 'severity': 'safe'}, 'violence': {'filtered': False, 'severity': 'safe'}}}])\n"
     ]
    }
   ],
   "source": [
    "\n",
    "# Example raw text input (replace with your actual input text)\n",
    "texto_raw = \"\"\"\n",
    "Federal Reserve Board - Site Map Skip to main content Back to Home Board of Governors of the Federal Reserve System Stay Connected Federal Reserve Facebook Page Federal Reserve Instagram Page Federal Reserve YouTube Page Federal Reserve Flickr Page Federal Reserve LinkedIn Page Federal Reserve Threads Page Federal Reserve Twitter Page Subscribe to RSS Subscribe to Email Recent Postings Calendar Publications Site Map A-Z index Careers FAQs Videos Contact Search Submit Search Button Advanced Toggle Dropdown Menu Board of Governors of the Federal Reserve System The Federal Reserve, the central bank of the United States, provides\n",
    "          the nation with a safe, flexible, and stable monetary and financial\n",
    "          system. Main Menu Toggle Button Sections Search Toggle Button Search Search Submit Button Submit About the Fed Structure of the Federal Reserve System The Fed Explained Board Members Advisory Councils Federal Reserve Banks Federal Reserve Bank and Branch Directors Federal Reserve Act Currency Board Meetings Board Votes Diversity & Inclusion Careers Do Business with the Board Holidays Observed - K.8 Ethics & Values Contact Requesting Information (FOIA) FAQs Economic Education Fed Financial Statements Innovation News & Events Press Releases Speeches Testimony Calendar Videos Photo Gallery Conferences Monetary Policy Federal Open Market Committee About the FOMC Meeting calendars and information Transcripts and other historical materials FAQs Monetary Policy Principles and Practice Notes Policy Implementation Policy Normalization Policy Tools Reports Monetary Policy Report Beige Book Federal Reserve Balance Sheet Developments Review of Monetary Policy Strategy, Tools, and Communications Overview Supervision & Regulation Institution Supervision Novel Activities Supervision Program .\n",
    "          .\"\n",
    "\"\"\"\n",
    "\n",
    "# Generate questions and answers based on the raw input text\n",
    "preguntas_y_respuestas = generar_preguntas_y_respuestas(texto_raw)\n",
    "\n",
    "# Print the generated questions and answers\n",
    "print(preguntas_y_respuestas)"
   ]
  },
  {
   "cell_type": "code",
   "execution_count": 36,
   "metadata": {},
   "outputs": [
    {
     "name": "stdout",
     "output_type": "stream",
     "text": [
      "**Question:** What is the primary role of the Federal Reserve, and what resources and information can be accessed through its website?\n",
      "\n",
      "**Answer:** The primary role of the Federal Reserve, as the central bank of the United States, is to provide the nation with a safe, flexible, and stable monetary and financial system. The Federal Reserve's website offers a variety of resources and information, including details about its structure, board members, advisory councils, and the Federal Reserve Banks. Users can access publications, press releases, and videos, as well as information on monetary policy, supervision and regulation, and economic education. Additionally, the site provides a calendar of events, FAQs, and options for contacting the Federal Reserve, ensuring that the public can stay informed and engaged with its activities.\n"
     ]
    }
   ],
   "source": [
    "print(json.loads(preguntas_y_respuestas.json())[\"choices\"][0][\"message\"][\"content\"])"
   ]
  },
  {
   "cell_type": "code",
   "execution_count": null,
   "metadata": {},
   "outputs": [],
   "source": []
  }
 ],
 "metadata": {
  "kernelspec": {
   "display_name": "Python 3",
   "language": "python",
   "name": "python3"
  },
  "language_info": {
   "codemirror_mode": {
    "name": "ipython",
    "version": 3
   },
   "file_extension": ".py",
   "mimetype": "text/x-python",
   "name": "python",
   "nbconvert_exporter": "python",
   "pygments_lexer": "ipython3",
   "version": "3.10.15"
  }
 },
 "nbformat": 4,
 "nbformat_minor": 2
}
