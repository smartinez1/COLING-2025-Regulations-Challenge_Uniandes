{
 "cells": [
  {
   "cell_type": "code",
   "execution_count": 3,
   "metadata": {},
   "outputs": [],
   "source": [
    "import random\n",
    "import time\n",
    "import openai\n",
    "from openai import AzureOpenAI\n",
    "from langchain.prompts import PromptTemplate\n",
    "from pprint import pprint\n",
    "import json\n",
    "import pandas as pd\n",
    "\n",
    "# Placeholder values for API key and endpoint\n",
    "API_KEY_MINI = \"\"  \n",
    "API_BASE_GPMINI = \"https://invuniandesai.openai.azure.com/\"  # Replace with your Azure OpenAI service endpoint"
   ]
  },
  {
   "cell_type": "code",
   "execution_count": 4,
   "metadata": {},
   "outputs": [],
   "source": [
    "csv_filename = 'recursive_data/QA/QA.csv'\n",
    "df = pd.read_csv(csv_filename)"
   ]
  },
  {
   "cell_type": "code",
   "execution_count": 14,
   "metadata": {},
   "outputs": [],
   "source": [
    "# Function to generate questions and answers from a raw text input\n",
    "def generar_preguntas_y_respuestas(text):\n",
    "    # Define a prompt template for generating questions and answers\n",
    "    prompt_template = PromptTemplate(\n",
    "        input_variables=[\"text\"],\n",
    "        template=\"\"\"\n",
    "        Below, you have the following text: \"{text}\". Based on this text:\n",
    "\n",
    "        1. Write 1 question that covers the main aspects of the text.\n",
    "        2. Provide a detailed answer based on the information from the text.\n",
    "\n",
    "        Follow the format:\n",
    "        ´´´\n",
    "        Question: [Question]\n",
    "        Answer: [Answer]\n",
    "        ´´´\n",
    "        The question should be clear, and should not reference the provided text.\n",
    "        \"\"\"\n",
    "    )\n",
    "\n",
    "    # Format the input text into the template\n",
    "    prompt = prompt_template.format(text=text)\n",
    "\n",
    "    while True:\n",
    "        try:\n",
    "            resultado_completo = send_prompt(prompt)\n",
    "            return resultado_completo\n",
    "        except openai.error.RateLimitError:\n",
    "            print(\"Rate limit exceeded. Waiting before retrying...\")\n",
    "            time.sleep(60)\n",
    "        except Exception as e:\n",
    "            print(f\"An error occurred: {e}\")\n",
    "            break\n",
    "\n",
    "def send_prompt(prompt):\n",
    "    deployment_name2 = \"gpt4omini-rfmanrique\"\n",
    "    client = AzureOpenAI(\n",
    "        api_key=API_KEY_MINI,\n",
    "        api_version=\"2024-02-01\",\n",
    "        azure_endpoint=API_BASE_GPMINI\n",
    "    )\n",
    "\n",
    "    chat_completion_zero = client.chat.completions.create(\n",
    "        model=deployment_name2,\n",
    "        messages=[\n",
    "            {\n",
    "                \"role\": \"user\",\n",
    "                \"content\": prompt,\n",
    "            }\n",
    "        ],\n",
    "        temperature=0.1\n",
    "    )\n",
    "    return chat_completion_zero # Extract the response\n"
   ]
  },
  {
   "cell_type": "code",
   "execution_count": 18,
   "metadata": {},
   "outputs": [
    {
     "name": "stdout",
     "output_type": "stream",
     "text": [
      "ChatCompletion(id='chatcmpl-AHG9LMci8VpDkWG40osTjYYLD95KT', choices=[Choice(finish_reason='stop', index=0, logprobs=None, message=ChatCompletionMessage(content='```\\nQuestion: What are the key functions and policies of the Federal Reserve Board as outlined in their website linking policies and privacy practices?\\n\\nAnswer: The Federal Reserve Board serves as the central bank of the United States, aiming to provide a safe, flexible, and stable monetary and financial system. Its website outlines various functions, including monetary policy implementation, supervision and regulation of financial institutions, and community development initiatives. The Board emphasizes transparency and public engagement through its social media presence and various publications.\\n\\nIn terms of privacy practices, the Board collects technical information about website visits for statistical analysis and site improvement, ensuring that this data does not identify individual users. They utilize cookies for session management and analytics, but these do not collect personal information. The Board also maintains a strict policy regarding external links, ensuring that they only link to reputable sites that provide relevant and accurate information, while explicitly stating that they do not endorse the content of external websites. Additionally, the Board prohibits links to sites that exhibit hate or discrimination and reserves the right to remove any links that conflict with its mission or policies. Overall, the Federal Reserve Board prioritizes user privacy, security, and the dissemination of reliable information.\\n```', refusal=None, role='assistant', function_call=None, tool_calls=None), content_filter_results={'hate': {'filtered': False, 'severity': 'safe'}, 'protected_material_code': {'filtered': False, 'detected': False}, 'protected_material_text': {'filtered': False, 'detected': False}, 'self_harm': {'filtered': False, 'severity': 'safe'}, 'sexual': {'filtered': False, 'severity': 'safe'}, 'violence': {'filtered': False, 'severity': 'safe'}})], created=1728677019, model='gpt-4o-mini', object='chat.completion', service_tier=None, system_fingerprint='fp_878413d04d', usage=CompletionUsage(completion_tokens=235, prompt_tokens=3124, total_tokens=3359, completion_tokens_details=None, prompt_tokens_details=None), prompt_filter_results=[{'prompt_index': 0, 'content_filter_results': {'hate': {'filtered': False, 'severity': 'safe'}, 'jailbreak': {'filtered': False, 'detected': False}, 'self_harm': {'filtered': False, 'severity': 'safe'}, 'sexual': {'filtered': False, 'severity': 'safe'}, 'violence': {'filtered': False, 'severity': 'safe'}}}])\n"
     ]
    }
   ],
   "source": [
    "\n",
    "# Example raw text input (replace with your actual input text)\n",
    "texto_raw = \"\"\"\n",
    "Federal Reserve Board - Site Map Skip to main content Back to Home Board of Governors of the Federal Reserve System Stay Connected Federal Reserve Facebook Page Federal Reserve Instagram Page Federal Reserve YouTube Page Federal Reserve Flickr Page Federal Reserve LinkedIn Page Federal Reserve Threads Page Federal Reserve Twitter Page Subscribe to RSS Subscribe to Email Recent Postings Calendar Publications Site Map A-Z index Careers FAQs Videos Contact Search Submit Search Button Advanced Toggle Dropdown Menu Board of Governors of the Federal Reserve System The Federal Reserve, the central bank of the United States, provides\n",
    "          the nation with a safe, flexible, and stable monetary and financial\n",
    "          system. Main Menu Toggle Button Sections Search Toggle Button Search Search Submit Button Submit About the Fed Structure of the Federal Reserve System The Fed Explained Board Members Advisory Councils Federal Reserve Banks Federal Reserve Bank and Branch Directors Federal Reserve Act Currency Board Meetings Board Votes Diversity & Inclusion Careers Do Business with the Board Holidays Observed - K.8 Ethics & Values Contact Requesting Information (FOIA) FAQs Economic Education Fed Financial Statements Innovation News & Events Press Releases Speeches Testimony Calendar Videos Photo Gallery Conferences Monetary Policy Federal Open Market Committee About the FOMC Meeting calendars and information Transcripts and other historical materials FAQs Monetary Policy Principles and Practice Notes Policy Implementation Policy Normalization Policy Tools Reports Monetary Policy Report Beige Book Federal Reserve Balance Sheet Developments Review of Monetary Policy Strategy, Tools, and Communications Overview Supervision & Regulation Institution Supervision Novel Activities Supervision Program .\n",
    "          .\"\n",
    "\"\"\"\n",
    "raw_text = df.iloc[200][\"content\"]\n",
    "# Generate questions and answers based on the raw input text\n",
    "preguntas_y_respuestas = generar_preguntas_y_respuestas(raw_text)\n",
    "\n",
    "# Print the generated questions and answers\n",
    "print(preguntas_y_respuestas)"
   ]
  },
  {
   "cell_type": "code",
   "execution_count": 19,
   "metadata": {},
   "outputs": [
    {
     "name": "stdout",
     "output_type": "stream",
     "text": [
      "```\n",
      "Question: What are the key functions and policies of the Federal Reserve Board as outlined in their website linking policies and privacy practices?\n",
      "\n",
      "Answer: The Federal Reserve Board serves as the central bank of the United States, aiming to provide a safe, flexible, and stable monetary and financial system. Its website outlines various functions, including monetary policy implementation, supervision and regulation of financial institutions, and community development initiatives. The Board emphasizes transparency and public engagement through its social media presence and various publications.\n",
      "\n",
      "In terms of privacy practices, the Board collects technical information about website visits for statistical analysis and site improvement, ensuring that this data does not identify individual users. They utilize cookies for session management and analytics, but these do not collect personal information. The Board also maintains a strict policy regarding external links, ensuring that they only link to reputable sites that provide relevant and accurate information, while explicitly stating that they do not endorse the content of external websites. Additionally, the Board prohibits links to sites that exhibit hate or discrimination and reserves the right to remove any links that conflict with its mission or policies. Overall, the Federal Reserve Board prioritizes user privacy, security, and the dissemination of reliable information.\n",
      "```\n"
     ]
    }
   ],
   "source": [
    "print(json.loads(preguntas_y_respuestas.json())[\"choices\"][0][\"message\"][\"content\"])"
   ]
  },
  {
   "cell_type": "code",
   "execution_count": 17,
   "metadata": {},
   "outputs": [
    {
     "data": {
      "text/plain": [
       "\"ï»¿ Federal Reserve Board - Automated Clearinghouse Services Skip to main content Back to Home Board of Governors of the Federal Reserve System Stay Connected Federal Reserve Facebook Page Federal Reserve Instagram Page Federal Reserve YouTube Page Federal Reserve Flickr Page Federal Reserve LinkedIn Page Federal Reserve Threads Page Federal Reserve Twitter Page Subscribe to RSS Subscribe to Email Recent Postings Calendar Publications Site Map A-Z index Careers FAQs Videos Contact Search Submit Search Button Advanced Toggle Dropdown Menu Board of Governors of the Federal Reserve System The Federal Reserve, the central bank of the United States, provides\\r\\n          the nation with a safe, flexible, and stable monetary and financial\\r\\n          system. Main Menu Toggle Button Sections Search Toggle Button Search Search Submit Button Submit About the Fed Structure of the Federal Reserve System The Fed Explained Board Members Advisory Councils Federal Reserve Banks Federal Reserve Bank and Branch Directors Federal Reserve Act Currency Board Meetings Board Votes Diversity & Inclusion Careers Do Business with the Board Holidays Observed - K.8 Ethics & Values Contact Requesting Information (FOIA) FAQs Economic Education Fed Financial Statements Innovation News & Events Press Releases Speeches Testimony Calendar Videos Photo Gallery Conferences Monetary Policy Federal Open Market Committee About the FOMC Meeting calendars and information Transcripts and other historical materials FAQs Monetary Policy Principles and Practice Notes Policy Implementation Policy Normalization Policy Tools Reports Monetary Policy Report Beige Book Federal Reserve Balance Sheet Developments Review of Monetary Policy Strategy, Tools, and Communications Overview Supervision & Regulation Institution Supervision Novel Activities Supervision Program Community & Regional Financial Institutions Large Financial Institutions Foreign Banking Organizations Financial Market Utilities Consumer Compliance Reports Federal Reserve Supervision and Regulation Report Reporting Forms All Reporting Forms Recent Updates Information collections under review Financial Statements Applications/structure change Federal Financial Institutions Examination Council (FFIEC) Municipal & Government Securities Supervision & Regulation Letters By Year By Topic Banking Applications & Legal Developments Application Process Board & Reserve Bank Action Enforcement Actions & Legal Developments Regulatory Resources Regulations Manuals Basel Regulatory Framework Volcker Rule Education, Training, and Assistance Banking & Data Structure Beneficial Ownership reports Large Commercial Banks U.S. Offices of Foreign Entities Financial Holding Companies Interstate Branching Securities Underwriting & Dealing Subsidiaries Minority Depository Institutions Financial Stability Financial Stability Assessments About Financial Stability Types of Financial System Vulnerabilities & Risks Monitoring Risk Across the Financial System Proactive Monitoring of Markets & Institutions Financial Stability & Stress Testing Financial Stability Coordination & Actions Responding to Financial System Emergencies Cooperation on Financial Stability Reports Financial Stability Report Payment Systems Regulations & Statutes Regulation CC (Availability of Funds and Collection of Checks) Regulation II (Debit Card Interchange Fees and Routing) Regulation HH (Financial Market Utilities) Other Regulations and Statutes Payment Policies Federal Reserve's Key Policies for the Provision of Financial Services Guidelines for Evaluating Joint Account Requests Overnight Overdrafts Payment System Risk Sponsorship for Priority Telecommunication Services Reserve Bank Payment Services & Data Automated Clearinghouse Services Check Services Currency and Coin Services Daylight Overdrafts and Fees FedNow ® Service Fedwire Funds Services Fedwire Securities Services Fiscal Agency Services Master Account and Services Database National Settlement Service Financial Market Utilities & Infrastructures Supervision & Oversight of Financial Market Infrastructures Designated Financial Market Utilities International Standards for Financial Market Infrastructures Research, Reports, & Committees Federal Reserve Payments Study (FRPS) Payments Research Reports Payments System Policy Advisory Committee Economic Research Meet the Researchers Working Papers and Notes Finance and Economics Discussion Series (FEDS) FEDS Notes International Finance Discussion Papers (IFDP) Data, Models and Tools Economic Research Data FRB/US Model Estimated Dynamic Optimization (EDO) Model Survey of Consumer Finances (SCF) Data Data Download Program Bank Assets and Liabilities Aggregate Reserves of Depository Institutions and the Monetary Base - H.3 Assets and Liabilities of Commercial Banks in the U.S. - H.8 Assets and Liabilities of U.S. Branches and Agencies of Foreign Banks Charge-Off and Delinquency Rates on Loans and Leases at Commercial Banks Senior Financial Officer Survey Senior Loan Officer Opinion Survey on Bank Lending Practices Bank Structure Data Large Commercial Banks Minority Depository Institutions Structure and Share Data for the U.S. Offices of Foreign Banks Business Finance Commercial Paper Finance Companies - G.20 New Security Issues, State and Local Governments New Security Issues, U.S. Corporations Dealer Financing Terms Senior Credit Officer Opinion Survey on Dealer Financing Terms Exchange Rates and International Data Foreign Exchange Rates - H.10/G.5 International Summary Statistics Securities Holdings and Transactions Statistics Reported by Banks and Other Financial Firms in the United States Structure and Share Data for U.S. Offices of Foreign Banks Financial Accounts Financial Accounts of the United States - Z.1 Household Finance Consumer Credit - G.19 Household Debt Service and Financial Obligations Ratios Mortgage Debt Outstanding Survey of Consumer Finances (SCF) Survey of Household Economics and Decisionmaking Industrial Activity Industrial Production and Capacity Utilization - G.17 Interest Rates Selected Interest Rates - H.15 Micro Data Reference Manual (MDRM) Micro and Macro Data Collections Money Stock and Reserve Balances Factors Affecting Reserve Balances - H.4.1 Money Stock Measures - H.6 Other Yield Curve Models and Data Consumers & Communities Regulations Community Reinvestment Act (CRA) All Regulations SupervisionÂ\\xa0& Enforcement CA Letters Enforcement Actions Independent Foreclosure Review Community Development Housing and Neighborhood Revitalization Small Business and Entrepreneurship Employment and Workforce Development Community Development Finance Rural Community and Economic Development Conferences ResearchÂ\\xa0& Analysis Survey of Household Economics and Decisionmaking Research Publications & Data Analysis Community Advisory Council Consumer Resources Mortgage and Foreclosure Resources Federal Reserve Community Development Resources Home Payment Systems Automated Clearinghouse Services Data The automated clearinghouse (ACH) system is a nationwide network through which depository institutions send each other batches of electronic credit and debit transfers. The direct deposit of payroll, social security benefits, and tax refunds are typical examples of ACH credit transfers. The direct debiting of mortgages and utility bills are typical examples of ACH debit transfers. While the ACH network was originally used to process mostly recurring payments, the network is today being used extensively to process one-time debit transfers, such as converted check payments and payments made over the telephone and Internet. The Reserve Banks and Electronic Payments Network (EPN) are the two national ACH operators. As an ACH operator, the Reserve Banks receive files of ACH payments from originating depository financial institutions, edit and sort the payments, deliver the payments to receiving depository financial institutions, and settle the payments by crediting and debiting the depository financial institutions' settlement accounts. The Reserve Banks and EPN rely on each other to process interoperator ACH payments--that is, payments in which the originating depository financial institution and the receiving depository financial institution are served by different operators. These interoperator payments are settled by the Reserve Banks. Network Statistics (Nacha website) Reports to Congress Report to the Congress on the Use of the Automated Clearinghouse System for Remittance Transfers to Foreign Countries 2019 Report (PDF) | 2017 Report (PDF) | 2015 Report (PDF) | 2013 Report (PDF) | 2011 Report (PDF) Same-day ACH On December 23, 2019, the Board approved modifications to the Federal Reserve Banks' National Settlement Service and Fedwire ® Funds Service to support enhancements to the same-day ACH service. On September 25, 2020, the Board amended the implementation date for certain modifications. Board's approval of National Settlement Service and Fedwire Funds Service modifications â\\x80\\x93 December 23, 2019 Boardâ\\x80\\x99s amendment of implementation date for certain modifications â\\x80\\x93 September 25, 2020 The Board requested comment on May 9, 2019 on potential modifications to the Federal Reserve Banks' National Settlement Service (NSS) and Fedwire ® Funds Service to support enhancements to the same-day ACH service. Board's request for comment on National Settlement Service and Fedwire Funds Service modifications -- May 9, 2019 The Board and Reserve Banks provided comment on Nacha's December 1, 2017 request for comment on proposed rules to expand same-day ACH. Board Staff Comment Letter -- February 1, 2018 (PDF) Reserve Banks' Staff Comment Letter â\\x80\\x93 January 26, 2018 (PDF) The Board has approved enhancements to the Reserve Banks' same-day ACH service to align the service with Nacha's ACH operating rules. Board's approval of the same-day ACH enhancements -- September 23, 2015 Board's request for comment on the same-day ACH enhancements -- May 21, 2015 Potential same-day ACH interbank fee adjustments based on Nacha's 5-year and 8-year reviews (PDF) | (CSV) The Board and Reserve Banks provided comment on Nacha's request on December 8, 2014 for comment to amend its operating rules to include same-day processing for most ACH payments. Board Staff Comment Letter -- February 6, 2015 (PDF) Reserve Banks' Staff Comment Letter -- February 6, 2015 (PDF) Further information on the FedACH ® service Back to Top Last Update:\\r\\n                    September 28, 2020 Board of Governors of the Federal Reserve System About the Fed News & Events Monetary Policy Supervision & Regulation Financial Stability Payment Systems Economic Research Data Consumers & Communities Connect with the Board Tools and Information Contact Publications Freedom of Information (FOIA) Office of Inspector General Budget & Performance | Audit No FEAR Act Español Website Policies | Privacy Program Accessibility Stay Connected Federal Reserve Facebook Page Federal Reserve Instagram Page Federal Reserve YouTube Page Federal Reserve Flickr Page Federal Reserve LinkedIn Page Federal Reserve Threads Page Link to Federal Reserve Twitter Page Subscribe to RSS Subscribe to Email Board of Governors of the Federal Reserve System 20th Street and Constitution Avenue N.W., Washington, DC 20551\""
      ]
     },
     "execution_count": 17,
     "metadata": {},
     "output_type": "execute_result"
    }
   ],
   "source": [
    "raw_text"
   ]
  },
  {
   "cell_type": "code",
   "execution_count": null,
   "metadata": {},
   "outputs": [],
   "source": []
  }
 ],
 "metadata": {
  "kernelspec": {
   "display_name": "Python 3",
   "language": "python",
   "name": "python3"
  },
  "language_info": {
   "codemirror_mode": {
    "name": "ipython",
    "version": 3
   },
   "file_extension": ".py",
   "mimetype": "text/x-python",
   "name": "python",
   "nbconvert_exporter": "python",
   "pygments_lexer": "ipython3",
   "version": "3.10.15"
  }
 },
 "nbformat": 4,
 "nbformat_minor": 2
}
