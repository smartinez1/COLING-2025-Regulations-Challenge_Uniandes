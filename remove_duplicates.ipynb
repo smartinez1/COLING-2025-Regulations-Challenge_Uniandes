{
 "cells": [
  {
   "cell_type": "code",
   "execution_count": 47,
   "metadata": {},
   "outputs": [],
   "source": [
    "import pandas as pd\n",
    "from os.path import join"
   ]
  },
  {
   "cell_type": "code",
   "execution_count": 48,
   "metadata": {},
   "outputs": [],
   "source": [
    "# Load the CSV file\n",
    "original_file_name = \"total - Copy.csv\"\n",
    "# original_file_name = \"total_backup.csv\"\n",
    "data_path = \"recursive_data/total\"\n",
    "file_path = join(data_path, original_file_name)\n",
    "output_file_path = join(data_path, 'total_cleaned.csv')\n",
    "df = pd.read_csv(file_path)\n"
   ]
  },
  {
   "cell_type": "code",
   "execution_count": 49,
   "metadata": {},
   "outputs": [
    {
     "data": {
      "text/plain": [
       "(1925, 7, 2607)"
      ]
     },
     "execution_count": 49,
     "metadata": {},
     "output_type": "execute_result"
    }
   ],
   "source": [
    "# Checking the initial number of rows\n",
    "initial_row_count = df.shape[0]\n",
    "\n",
    "# Step 1: Remove duplicate rows (based on all columns)\n",
    "df_no_duplicates = df.drop_duplicates()\n",
    "\n",
    "# Count the number of rows deleted\n",
    "rows_deleted = initial_row_count - df_no_duplicates.shape[0]\n",
    "\n",
    "# Step 2: Combine rows with shared text in the 'content' field\n",
    "# Group by 'content' and combine 'url' and 'source' fields\n",
    "df_combined = df_no_duplicates.groupby('content').agg({\n",
    "    'url': lambda urls: ' | '.join(urls.unique()),\n",
    "    'source': lambda sources: ' | '.join(sources.unique()),\n",
    "    'content': 'first'\n",
    "}).reset_index(drop=True)\n",
    "\n",
    "# Count the number of merges (i.e., combined rows)\n",
    "merges_count = df_no_duplicates.shape[0] - df_combined.shape[0]\n",
    "\n",
    "# Save the resulting dataframe\n",
    "df_combined.to_csv(output_file_path, index=False)\n",
    "\n",
    "(rows_deleted, merges_count, df_combined.shape[0])"
   ]
  },
  {
   "cell_type": "code",
   "execution_count": 50,
   "metadata": {},
   "outputs": [
    {
     "data": {
      "text/html": [
       "<div>\n",
       "<style scoped>\n",
       "    .dataframe tbody tr th:only-of-type {\n",
       "        vertical-align: middle;\n",
       "    }\n",
       "\n",
       "    .dataframe tbody tr th {\n",
       "        vertical-align: top;\n",
       "    }\n",
       "\n",
       "    .dataframe thead th {\n",
       "        text-align: right;\n",
       "    }\n",
       "</style>\n",
       "<table border=\"1\" class=\"dataframe\">\n",
       "  <thead>\n",
       "    <tr style=\"text-align: right;\">\n",
       "      <th></th>\n",
       "      <th>url</th>\n",
       "      <th>source</th>\n",
       "      <th>content</th>\n",
       "    </tr>\n",
       "  </thead>\n",
       "  <tbody>\n",
       "    <tr>\n",
       "      <th>495</th>\n",
       "      <td>https://www.esma.europa.eu/sites/default/files...</td>\n",
       "      <td>ESMA</td>\n",
       "      <td>ESMA70 -148-2567  \\nUpdate d on 3 September ...</td>\n",
       "    </tr>\n",
       "    <tr>\n",
       "      <th>962</th>\n",
       "      <td>https://www.esma.europa.eu/sites/default/files...</td>\n",
       "      <td>ESMA</td>\n",
       "      <td>22 March 2023  \\nESMA 91-372-2226  \\n \\n \\n \\n...</td>\n",
       "    </tr>\n",
       "    <tr>\n",
       "      <th>358</th>\n",
       "      <td>https://www.esma.europa.eu/sites/default/files...</td>\n",
       "      <td>ESMA</td>\n",
       "      <td>\\nDeclaration of Intention  \\n \\nFirst  Name ...</td>\n",
       "    </tr>\n",
       "    <tr>\n",
       "      <th>53</th>\n",
       "      <td>https://www.esma.europa.eu/sites/default/files...</td>\n",
       "      <td>ESMA</td>\n",
       "      <td>\\n \\n \\n   \\nRD \\n \\nESMA Risk Dashboard  \\n ...</td>\n",
       "    </tr>\n",
       "    <tr>\n",
       "      <th>1019</th>\n",
       "      <td>https://www.govinfo.gov/content/pkg/FR-2022-11...</td>\n",
       "      <td>FINRA</td>\n",
       "      <td>66412 Federal Register/ Vol. 87, No. 212 / Thu...</td>\n",
       "    </tr>\n",
       "  </tbody>\n",
       "</table>\n",
       "</div>"
      ],
      "text/plain": [
       "                                                    url source  \\\n",
       "495   https://www.esma.europa.eu/sites/default/files...   ESMA   \n",
       "962   https://www.esma.europa.eu/sites/default/files...   ESMA   \n",
       "358   https://www.esma.europa.eu/sites/default/files...   ESMA   \n",
       "53    https://www.esma.europa.eu/sites/default/files...   ESMA   \n",
       "1019  https://www.govinfo.gov/content/pkg/FR-2022-11...  FINRA   \n",
       "\n",
       "                                                content  \n",
       "495     ESMA70 -148-2567  \\nUpdate d on 3 September ...  \n",
       "962   22 March 2023  \\nESMA 91-372-2226  \\n \\n \\n \\n...  \n",
       "358    \\nDeclaration of Intention  \\n \\nFirst  Name ...  \n",
       "53     \\n \\n \\n   \\nRD \\n \\nESMA Risk Dashboard  \\n ...  \n",
       "1019  66412 Federal Register/ Vol. 87, No. 212 / Thu...  "
      ]
     },
     "execution_count": 50,
     "metadata": {},
     "output_type": "execute_result"
    }
   ],
   "source": [
    "df_combined.sample(5)"
   ]
  },
  {
   "cell_type": "code",
   "execution_count": 51,
   "metadata": {},
   "outputs": [
    {
     "data": {
      "text/plain": [
       "68"
      ]
     },
     "execution_count": 51,
     "metadata": {},
     "output_type": "execute_result"
    }
   ],
   "source": [
    "df_combined.shape[0]-2539"
   ]
  },
  {
   "cell_type": "code",
   "execution_count": 52,
   "metadata": {},
   "outputs": [
    {
     "data": {
      "text/plain": [
       "2.678219771563608"
      ]
     },
     "execution_count": 52,
     "metadata": {},
     "output_type": "execute_result"
    }
   ],
   "source": [
    "100*((df_combined.shape[0]-2539)/2539)"
   ]
  },
  {
   "cell_type": "code",
   "execution_count": null,
   "metadata": {},
   "outputs": [],
   "source": []
  },
  {
   "cell_type": "code",
   "execution_count": null,
   "metadata": {},
   "outputs": [],
   "source": []
  }
 ],
 "metadata": {
  "kernelspec": {
   "display_name": "Python 3",
   "language": "python",
   "name": "python3"
  },
  "language_info": {
   "codemirror_mode": {
    "name": "ipython",
    "version": 3
   },
   "file_extension": ".py",
   "mimetype": "text/x-python",
   "name": "python",
   "nbconvert_exporter": "python",
   "pygments_lexer": "ipython3",
   "version": "3.11.4"
  }
 },
 "nbformat": 4,
 "nbformat_minor": 2
}
