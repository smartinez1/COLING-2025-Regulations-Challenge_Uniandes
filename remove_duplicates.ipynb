{
 "cells": [
  {
   "cell_type": "code",
   "execution_count": 14,
   "metadata": {},
   "outputs": [],
   "source": [
    "import pandas as pd\n",
    "from os.path import join"
   ]
  },
  {
   "cell_type": "code",
   "execution_count": 18,
   "metadata": {},
   "outputs": [],
   "source": [
    "# Load the CSV file\n",
    "original_file_name = \"total - Copy.csv\"\n",
    "# original_file_name = \"total_backup.csv\"\n",
    "data_path = \"recursive_data/total\"\n",
    "file_path = join(data_path, original_file_name)\n",
    "output_file_path = join(data_path, 'total_cleaned.csv')\n",
    "df = pd.read_csv(file_path)\n"
   ]
  },
  {
   "cell_type": "code",
   "execution_count": 19,
   "metadata": {},
   "outputs": [
    {
     "data": {
      "text/plain": [
       "(1677, 7, 2605)"
      ]
     },
     "execution_count": 19,
     "metadata": {},
     "output_type": "execute_result"
    }
   ],
   "source": [
    "# Checking the initial number of rows\n",
    "initial_row_count = df.shape[0]\n",
    "\n",
    "# Step 1: Remove duplicate rows (based on all columns)\n",
    "df_no_duplicates = df.drop_duplicates()\n",
    "\n",
    "# Count the number of rows deleted\n",
    "rows_deleted = initial_row_count - df_no_duplicates.shape[0]\n",
    "\n",
    "# Step 2: Combine rows with shared text in the 'content' field\n",
    "# Group by 'content' and combine 'url' and 'source' fields\n",
    "df_combined = df_no_duplicates.groupby('content').agg({\n",
    "    'url': lambda urls: ' | '.join(urls.unique()),\n",
    "    'source': lambda sources: ' | '.join(sources.unique()),\n",
    "    'content': 'first'\n",
    "}).reset_index(drop=True)\n",
    "\n",
    "# Count the number of merges (i.e., combined rows)\n",
    "merges_count = df_no_duplicates.shape[0] - df_combined.shape[0]\n",
    "\n",
    "# Save the resulting dataframe\n",
    "df_combined.to_csv(output_file_path, index=False)\n",
    "\n",
    "(rows_deleted, merges_count, df_combined.shape[0])"
   ]
  },
  {
   "cell_type": "code",
   "execution_count": 21,
   "metadata": {},
   "outputs": [
    {
     "data": {
      "text/html": [
       "<div>\n",
       "<style scoped>\n",
       "    .dataframe tbody tr th:only-of-type {\n",
       "        vertical-align: middle;\n",
       "    }\n",
       "\n",
       "    .dataframe tbody tr th {\n",
       "        vertical-align: top;\n",
       "    }\n",
       "\n",
       "    .dataframe thead th {\n",
       "        text-align: right;\n",
       "    }\n",
       "</style>\n",
       "<table border=\"1\" class=\"dataframe\">\n",
       "  <thead>\n",
       "    <tr style=\"text-align: right;\">\n",
       "      <th></th>\n",
       "      <th>url</th>\n",
       "      <th>source</th>\n",
       "      <th>content</th>\n",
       "    </tr>\n",
       "  </thead>\n",
       "  <tbody>\n",
       "    <tr>\n",
       "      <th>count</th>\n",
       "      <td>2605</td>\n",
       "      <td>2605</td>\n",
       "      <td>2605</td>\n",
       "    </tr>\n",
       "    <tr>\n",
       "      <th>unique</th>\n",
       "      <td>2545</td>\n",
       "      <td>16</td>\n",
       "      <td>2605</td>\n",
       "    </tr>\n",
       "    <tr>\n",
       "      <th>top</th>\n",
       "      <td>https://www.ice.com/</td>\n",
       "      <td>ESMA</td>\n",
       "      <td>\\n</td>\n",
       "    </tr>\n",
       "    <tr>\n",
       "      <th>freq</th>\n",
       "      <td>8</td>\n",
       "      <td>1010</td>\n",
       "      <td>1</td>\n",
       "    </tr>\n",
       "  </tbody>\n",
       "</table>\n",
       "</div>"
      ],
      "text/plain": [
       "                         url source content\n",
       "count                   2605   2605    2605\n",
       "unique                  2545     16    2605\n",
       "top     https://www.ice.com/   ESMA      \\n\n",
       "freq                       8   1010       1"
      ]
     },
     "execution_count": 21,
     "metadata": {},
     "output_type": "execute_result"
    }
   ],
   "source": [
    "df_combined.describe()"
   ]
  },
  {
   "cell_type": "code",
   "execution_count": 23,
   "metadata": {},
   "outputs": [
    {
     "data": {
      "text/plain": [
       "66"
      ]
     },
     "execution_count": 23,
     "metadata": {},
     "output_type": "execute_result"
    }
   ],
   "source": [
    "2605-2539"
   ]
  },
  {
   "cell_type": "code",
   "execution_count": null,
   "metadata": {},
   "outputs": [],
   "source": []
  }
 ],
 "metadata": {
  "kernelspec": {
   "display_name": "Python 3",
   "language": "python",
   "name": "python3"
  },
  "language_info": {
   "codemirror_mode": {
    "name": "ipython",
    "version": 3
   },
   "file_extension": ".py",
   "mimetype": "text/x-python",
   "name": "python",
   "nbconvert_exporter": "python",
   "pygments_lexer": "ipython3",
   "version": "3.11.4"
  }
 },
 "nbformat": 4,
 "nbformat_minor": 2
}
